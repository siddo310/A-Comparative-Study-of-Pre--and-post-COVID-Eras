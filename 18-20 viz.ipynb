{
 "cells": [
  {
   "cell_type": "code",
   "execution_count": 1,
   "id": "a92bb6d6",
   "metadata": {},
   "outputs": [
    {
     "name": "stderr",
     "output_type": "stream",
     "text": [
      "C:\\Users\\panch\\anaconda3\\lib\\site-packages\\scipy\\__init__.py:155: UserWarning: A NumPy version >=1.18.5 and <1.25.0 is required for this version of SciPy (detected version 1.26.2\n",
      "  warnings.warn(f\"A NumPy version >={np_minversion} and <{np_maxversion}\"\n"
     ]
    }
   ],
   "source": [
    "import pandas as pd\n",
    "import numpy as np\n",
    "import matplotlib.pyplot as plt\n",
    "%matplotlib inline\n",
    "import seaborn as sns\n",
    "## Display all the columns of the dataframe\n",
    "\n",
    "pd.pandas.set_option('display.max_columns',None)"
   ]
  },
  {
   "cell_type": "code",
   "execution_count": 2,
   "id": "00c954c0",
   "metadata": {},
   "outputs": [
    {
     "name": "stdout",
     "output_type": "stream",
     "text": [
      "(1844, 15)\n"
     ]
    }
   ],
   "source": [
    "\n",
    "# Replace 'hh.xlsx' with the actual file path of your Excel file\n",
    "file_path = 'H2.xlsx'\n",
    "\n",
    "# Read the specific sheet named '18-20' into a DataFrame\n",
    "data= pd.read_excel(file_path, sheet_name='18-20')\n",
    "\n",
    "# Display the DataFrame\n",
    "\n",
    "\n",
    "print(data.shape)"
   ]
  },
  {
   "cell_type": "code",
   "execution_count": 3,
   "id": "62ed98d9",
   "metadata": {},
   "outputs": [
    {
     "data": {
      "text/html": [
       "<div>\n",
       "<style scoped>\n",
       "    .dataframe tbody tr th:only-of-type {\n",
       "        vertical-align: middle;\n",
       "    }\n",
       "\n",
       "    .dataframe tbody tr th {\n",
       "        vertical-align: top;\n",
       "    }\n",
       "\n",
       "    .dataframe thead th {\n",
       "        text-align: right;\n",
       "    }\n",
       "</style>\n",
       "<table border=\"1\" class=\"dataframe\">\n",
       "  <thead>\n",
       "    <tr style=\"text-align: right;\">\n",
       "      <th></th>\n",
       "      <th>Field1</th>\n",
       "      <th>area_code</th>\n",
       "      <th>bath</th>\n",
       "      <th>beds</th>\n",
       "      <th>rep</th>\n",
       "      <th>hold_type</th>\n",
       "      <th>property_type</th>\n",
       "      <th>sold_month</th>\n",
       "      <th>sold_year</th>\n",
       "      <th>sold_price</th>\n",
       "      <th>estimated_price</th>\n",
       "      <th>area</th>\n",
       "      <th>list_year</th>\n",
       "      <th>listing_price</th>\n",
       "      <th>type_property</th>\n",
       "    </tr>\n",
       "  </thead>\n",
       "  <tbody>\n",
       "    <tr>\n",
       "      <th>0</th>\n",
       "      <td>123 Abingdon Road, Birmingham, B23 5HX</td>\n",
       "      <td>B23</td>\n",
       "      <td>3.0</td>\n",
       "      <td>NaN</td>\n",
       "      <td>NaN</td>\n",
       "      <td>LEASEHOLD</td>\n",
       "      <td>SEMI-DETACHED PROPERTY</td>\n",
       "      <td>Nov</td>\n",
       "      <td>2018</td>\n",
       "      <td>131000</td>\n",
       "      <td>175,000 - 193,000</td>\n",
       "      <td>75.0</td>\n",
       "      <td>1996.0</td>\n",
       "      <td>50000.0</td>\n",
       "      <td>2</td>\n",
       "    </tr>\n",
       "    <tr>\n",
       "      <th>1</th>\n",
       "      <td>9 Arthur Road, Erdington, Birmingham, B24 9EX</td>\n",
       "      <td>B24</td>\n",
       "      <td>1.0</td>\n",
       "      <td>4.0</td>\n",
       "      <td>3.0</td>\n",
       "      <td>FREEHOLD</td>\n",
       "      <td>MID TERRACE PROPERTY</td>\n",
       "      <td>Nov</td>\n",
       "      <td>2018</td>\n",
       "      <td>273500</td>\n",
       "      <td>348,000 - 384,000</td>\n",
       "      <td>60.0</td>\n",
       "      <td>2018.0</td>\n",
       "      <td>275000.0</td>\n",
       "      <td>9</td>\n",
       "    </tr>\n",
       "    <tr>\n",
       "      <th>2</th>\n",
       "      <td>Apartment 13, Melrose Apartments, 2A Bell Barn...</td>\n",
       "      <td>B15</td>\n",
       "      <td>1.0</td>\n",
       "      <td>NaN</td>\n",
       "      <td>NaN</td>\n",
       "      <td>LEASEHOLD</td>\n",
       "      <td>FLAT/MAISONETTE</td>\n",
       "      <td>Nov</td>\n",
       "      <td>2018</td>\n",
       "      <td>230000</td>\n",
       "      <td>235,000 - 260,000</td>\n",
       "      <td>61.0</td>\n",
       "      <td>NaN</td>\n",
       "      <td>NaN</td>\n",
       "      <td>6</td>\n",
       "    </tr>\n",
       "    <tr>\n",
       "      <th>3</th>\n",
       "      <td>2 Beverley Road, Rubery, Rednal, Birmingham, B...</td>\n",
       "      <td>B45</td>\n",
       "      <td>1.0</td>\n",
       "      <td>3.0</td>\n",
       "      <td>1.0</td>\n",
       "      <td>FREEHOLD</td>\n",
       "      <td>SEMI-DETACHED PROPERTY</td>\n",
       "      <td>Nov</td>\n",
       "      <td>2018</td>\n",
       "      <td>190000</td>\n",
       "      <td>232,000 - 256,000</td>\n",
       "      <td>86.0</td>\n",
       "      <td>2018.0</td>\n",
       "      <td>185000.0</td>\n",
       "      <td>2</td>\n",
       "    </tr>\n",
       "    <tr>\n",
       "      <th>4</th>\n",
       "      <td>Flat 156, Abacus Building, 246 Bradford Street...</td>\n",
       "      <td>B12</td>\n",
       "      <td>1.0</td>\n",
       "      <td>1.0</td>\n",
       "      <td>1.0</td>\n",
       "      <td>LEASEHOLD</td>\n",
       "      <td>FLAT/MAISONETTE</td>\n",
       "      <td>Nov</td>\n",
       "      <td>2018</td>\n",
       "      <td>142450</td>\n",
       "      <td>165,000 - 182,000</td>\n",
       "      <td>45.0</td>\n",
       "      <td>2006.0</td>\n",
       "      <td>149950.0</td>\n",
       "      <td>6</td>\n",
       "    </tr>\n",
       "  </tbody>\n",
       "</table>\n",
       "</div>"
      ],
      "text/plain": [
       "                                              Field1 area_code  bath  beds  \\\n",
       "0             123 Abingdon Road, Birmingham, B23 5HX       B23   3.0   NaN   \n",
       "1      9 Arthur Road, Erdington, Birmingham, B24 9EX       B24   1.0   4.0   \n",
       "2  Apartment 13, Melrose Apartments, 2A Bell Barn...       B15   1.0   NaN   \n",
       "3  2 Beverley Road, Rubery, Rednal, Birmingham, B...       B45   1.0   3.0   \n",
       "4  Flat 156, Abacus Building, 246 Bradford Street...       B12   1.0   1.0   \n",
       "\n",
       "   rep  hold_type           property_type sold_month  sold_year  sold_price  \\\n",
       "0  NaN  LEASEHOLD  SEMI-DETACHED PROPERTY        Nov       2018      131000   \n",
       "1  3.0   FREEHOLD    MID TERRACE PROPERTY        Nov       2018      273500   \n",
       "2  NaN  LEASEHOLD         FLAT/MAISONETTE        Nov       2018      230000   \n",
       "3  1.0   FREEHOLD  SEMI-DETACHED PROPERTY        Nov       2018      190000   \n",
       "4  1.0  LEASEHOLD         FLAT/MAISONETTE        Nov       2018      142450   \n",
       "\n",
       "     estimated_price  area  list_year  listing_price  type_property  \n",
       "0  175,000 - 193,000  75.0     1996.0        50000.0              2  \n",
       "1  348,000 - 384,000  60.0     2018.0       275000.0              9  \n",
       "2  235,000 - 260,000  61.0        NaN            NaN              6  \n",
       "3  232,000 - 256,000  86.0     2018.0       185000.0              2  \n",
       "4  165,000 - 182,000  45.0     2006.0       149950.0              6  "
      ]
     },
     "execution_count": 3,
     "metadata": {},
     "output_type": "execute_result"
    }
   ],
   "source": [
    "data.head()"
   ]
  },
  {
   "cell_type": "code",
   "execution_count": 4,
   "id": "29e28cbe",
   "metadata": {},
   "outputs": [
    {
     "name": "stdout",
     "output_type": "stream",
     "text": [
      "bath 0.1161  % missing values\n",
      "beds 0.2077  % missing values\n",
      "rep 0.3595  % missing values\n",
      "area 0.1665  % missing values\n",
      "list_year 0.6931  % missing values\n",
      "listing_price 0.6931  % missing values\n"
     ]
    }
   ],
   "source": [
    "features_with_na=[features for features in data.columns if data[features].isnull().sum()>1]\n",
    "## 2- step print the feature name and the percentage of missing values\n",
    "\n",
    "for feature in features_with_na:\n",
    "    print(feature, np.round(data[feature].isnull().mean(), 4),  ' % missing values')"
   ]
  },
  {
   "cell_type": "code",
   "execution_count": 5,
   "id": "4ac217e7",
   "metadata": {},
   "outputs": [
    {
     "data": {
      "text/plain": [
       "Field1                0\n",
       "area_code             0\n",
       "bath                214\n",
       "beds                383\n",
       "rep                 663\n",
       "hold_type             0\n",
       "property_type         0\n",
       "sold_month            0\n",
       "sold_year             0\n",
       "sold_price            0\n",
       "estimated_price       0\n",
       "area                307\n",
       "list_year          1278\n",
       "listing_price      1278\n",
       "type_property         0\n",
       "dtype: int64"
      ]
     },
     "execution_count": 5,
     "metadata": {},
     "output_type": "execute_result"
    }
   ],
   "source": [
    "data.isnull().sum()"
   ]
  },
  {
   "cell_type": "code",
   "execution_count": 6,
   "id": "e969724a",
   "metadata": {},
   "outputs": [
    {
     "data": {
      "text/plain": [
       "Field1              object\n",
       "area_code           object\n",
       "bath               float64\n",
       "beds               float64\n",
       "rep                float64\n",
       "hold_type           object\n",
       "property_type       object\n",
       "sold_month          object\n",
       "sold_year            int64\n",
       "sold_price           int64\n",
       "estimated_price     object\n",
       "area               float64\n",
       "list_year          float64\n",
       "listing_price      float64\n",
       "type_property        int64\n",
       "dtype: object"
      ]
     },
     "execution_count": 6,
     "metadata": {},
     "output_type": "execute_result"
    }
   ],
   "source": [
    "data.dtypes"
   ]
  },
  {
   "cell_type": "code",
   "execution_count": 7,
   "id": "4bb55cf4",
   "metadata": {},
   "outputs": [
    {
     "name": "stdout",
     "output_type": "stream",
     "text": [
      "Field1               0\n",
      "area_code            0\n",
      "bath               214\n",
      "beds               383\n",
      "rep                663\n",
      "hold_type            0\n",
      "property_type        0\n",
      "sold_month           0\n",
      "sold_year            0\n",
      "sold_price           0\n",
      "estimated_price      0\n",
      "area               307\n",
      "type_property        0\n",
      "dtype: int64\n"
     ]
    }
   ],
   "source": [
    "columns_to_drop = ['list_year', 'listing_price']\n",
    "data = data.drop(columns=columns_to_drop)\n",
    "print(data.isnull().sum())"
   ]
  },
  {
   "cell_type": "code",
   "execution_count": 8,
   "id": "30658fd0",
   "metadata": {},
   "outputs": [],
   "source": [
    "data=data.dropna()"
   ]
  },
  {
   "cell_type": "code",
   "execution_count": 9,
   "id": "57f52426",
   "metadata": {},
   "outputs": [
    {
     "name": "stdout",
     "output_type": "stream",
     "text": [
      "Field1             0\n",
      "area_code          0\n",
      "bath               0\n",
      "beds               0\n",
      "rep                0\n",
      "hold_type          0\n",
      "property_type      0\n",
      "sold_month         0\n",
      "sold_year          0\n",
      "sold_price         0\n",
      "estimated_price    0\n",
      "area               0\n",
      "type_property      0\n",
      "dtype: int64\n"
     ]
    }
   ],
   "source": [
    "print(data.isnull().sum())"
   ]
  },
  {
   "cell_type": "code",
   "execution_count": 10,
   "id": "8155a3f6",
   "metadata": {},
   "outputs": [
    {
     "data": {
      "text/plain": [
       "\"data['rep'].fillna(data['rep'].median(), inplace=True)\\ndata['beds'].fillna(data['beds'].median(), inplace=True)\\ndata['bath'].fillna(data['bath'].median(), inplace=True)\""
      ]
     },
     "execution_count": 10,
     "metadata": {},
     "output_type": "execute_result"
    }
   ],
   "source": [
    "# Fill missing values with appropriate strategies\n",
    "'''data['rep'].fillna(data['rep'].median(), inplace=True)\n",
    "data['beds'].fillna(data['beds'].median(), inplace=True)\n",
    "data['bath'].fillna(data['bath'].median(), inplace=True)'''"
   ]
  },
  {
   "cell_type": "code",
   "execution_count": 11,
   "id": "3d2059e7",
   "metadata": {},
   "outputs": [
    {
     "data": {
      "text/html": [
       "<div>\n",
       "<style scoped>\n",
       "    .dataframe tbody tr th:only-of-type {\n",
       "        vertical-align: middle;\n",
       "    }\n",
       "\n",
       "    .dataframe tbody tr th {\n",
       "        vertical-align: top;\n",
       "    }\n",
       "\n",
       "    .dataframe thead th {\n",
       "        text-align: right;\n",
       "    }\n",
       "</style>\n",
       "<table border=\"1\" class=\"dataframe\">\n",
       "  <thead>\n",
       "    <tr style=\"text-align: right;\">\n",
       "      <th></th>\n",
       "      <th>Field1</th>\n",
       "      <th>area_code</th>\n",
       "      <th>bath</th>\n",
       "      <th>beds</th>\n",
       "      <th>rep</th>\n",
       "      <th>hold_type</th>\n",
       "      <th>property_type</th>\n",
       "      <th>sold_month</th>\n",
       "      <th>sold_year</th>\n",
       "      <th>sold_price</th>\n",
       "      <th>estimated_price</th>\n",
       "      <th>area</th>\n",
       "      <th>type_property</th>\n",
       "    </tr>\n",
       "  </thead>\n",
       "  <tbody>\n",
       "    <tr>\n",
       "      <th>1</th>\n",
       "      <td>9 Arthur Road, Erdington, Birmingham, B24 9EX</td>\n",
       "      <td>B24</td>\n",
       "      <td>1.0</td>\n",
       "      <td>4.0</td>\n",
       "      <td>3.0</td>\n",
       "      <td>FREEHOLD</td>\n",
       "      <td>MID TERRACE PROPERTY</td>\n",
       "      <td>Nov</td>\n",
       "      <td>2018</td>\n",
       "      <td>273500</td>\n",
       "      <td>348,000 - 384,000</td>\n",
       "      <td>60.0</td>\n",
       "      <td>9</td>\n",
       "    </tr>\n",
       "    <tr>\n",
       "      <th>3</th>\n",
       "      <td>2 Beverley Road, Rubery, Rednal, Birmingham, B...</td>\n",
       "      <td>B45</td>\n",
       "      <td>1.0</td>\n",
       "      <td>3.0</td>\n",
       "      <td>1.0</td>\n",
       "      <td>FREEHOLD</td>\n",
       "      <td>SEMI-DETACHED PROPERTY</td>\n",
       "      <td>Nov</td>\n",
       "      <td>2018</td>\n",
       "      <td>190000</td>\n",
       "      <td>232,000 - 256,000</td>\n",
       "      <td>86.0</td>\n",
       "      <td>2</td>\n",
       "    </tr>\n",
       "    <tr>\n",
       "      <th>4</th>\n",
       "      <td>Flat 156, Abacus Building, 246 Bradford Street...</td>\n",
       "      <td>B12</td>\n",
       "      <td>1.0</td>\n",
       "      <td>1.0</td>\n",
       "      <td>1.0</td>\n",
       "      <td>LEASEHOLD</td>\n",
       "      <td>FLAT/MAISONETTE</td>\n",
       "      <td>Nov</td>\n",
       "      <td>2018</td>\n",
       "      <td>142450</td>\n",
       "      <td>165,000 - 182,000</td>\n",
       "      <td>45.0</td>\n",
       "      <td>6</td>\n",
       "    </tr>\n",
       "    <tr>\n",
       "      <th>6</th>\n",
       "      <td>52 Caversham Place, Sutton Coldfield, B73 6HY</td>\n",
       "      <td>B73</td>\n",
       "      <td>1.0</td>\n",
       "      <td>2.0</td>\n",
       "      <td>1.0</td>\n",
       "      <td>LEASEHOLD</td>\n",
       "      <td>FLAT/MAISONETTE</td>\n",
       "      <td>Nov</td>\n",
       "      <td>2018</td>\n",
       "      <td>180000</td>\n",
       "      <td>194,000 - 214,000</td>\n",
       "      <td>55.0</td>\n",
       "      <td>6</td>\n",
       "    </tr>\n",
       "    <tr>\n",
       "      <th>8</th>\n",
       "      <td>555 Chester Road, Sutton Coldfield, B73 5HU</td>\n",
       "      <td>B73</td>\n",
       "      <td>1.0</td>\n",
       "      <td>3.0</td>\n",
       "      <td>2.0</td>\n",
       "      <td>FREEHOLD</td>\n",
       "      <td>MID TERRACE PROPERTY</td>\n",
       "      <td>Nov</td>\n",
       "      <td>2018</td>\n",
       "      <td>193000</td>\n",
       "      <td>247,000 - 273,000</td>\n",
       "      <td>95.0</td>\n",
       "      <td>9</td>\n",
       "    </tr>\n",
       "  </tbody>\n",
       "</table>\n",
       "</div>"
      ],
      "text/plain": [
       "                                              Field1 area_code  bath  beds  \\\n",
       "1      9 Arthur Road, Erdington, Birmingham, B24 9EX       B24   1.0   4.0   \n",
       "3  2 Beverley Road, Rubery, Rednal, Birmingham, B...       B45   1.0   3.0   \n",
       "4  Flat 156, Abacus Building, 246 Bradford Street...       B12   1.0   1.0   \n",
       "6      52 Caversham Place, Sutton Coldfield, B73 6HY       B73   1.0   2.0   \n",
       "8        555 Chester Road, Sutton Coldfield, B73 5HU       B73   1.0   3.0   \n",
       "\n",
       "   rep  hold_type           property_type sold_month  sold_year  sold_price  \\\n",
       "1  3.0   FREEHOLD    MID TERRACE PROPERTY        Nov       2018      273500   \n",
       "3  1.0   FREEHOLD  SEMI-DETACHED PROPERTY        Nov       2018      190000   \n",
       "4  1.0  LEASEHOLD         FLAT/MAISONETTE        Nov       2018      142450   \n",
       "6  1.0  LEASEHOLD         FLAT/MAISONETTE        Nov       2018      180000   \n",
       "8  2.0   FREEHOLD    MID TERRACE PROPERTY        Nov       2018      193000   \n",
       "\n",
       "     estimated_price  area  type_property  \n",
       "1  348,000 - 384,000  60.0              9  \n",
       "3  232,000 - 256,000  86.0              2  \n",
       "4  165,000 - 182,000  45.0              6  \n",
       "6  194,000 - 214,000  55.0              6  \n",
       "8  247,000 - 273,000  95.0              9  "
      ]
     },
     "execution_count": 11,
     "metadata": {},
     "output_type": "execute_result"
    }
   ],
   "source": [
    "data.head()"
   ]
  },
  {
   "cell_type": "code",
   "execution_count": 12,
   "id": "369f0386",
   "metadata": {},
   "outputs": [],
   "source": [
    "#data['area']= data['area'].interpolate(method = 'linear',axis=0).ffill().bfill()"
   ]
  },
  {
   "cell_type": "code",
   "execution_count": 13,
   "id": "45aaa50b",
   "metadata": {},
   "outputs": [],
   "source": [
    "data['beds'] = data['beds'].astype(float)\n",
    "data['bath'] = data['bath'].astype(float)\n",
    "data['area'] = data['area'].astype(float)"
   ]
  },
  {
   "cell_type": "code",
   "execution_count": 14,
   "id": "c552fd6c",
   "metadata": {},
   "outputs": [
    {
     "data": {
      "text/html": [
       "<div>\n",
       "<style scoped>\n",
       "    .dataframe tbody tr th:only-of-type {\n",
       "        vertical-align: middle;\n",
       "    }\n",
       "\n",
       "    .dataframe tbody tr th {\n",
       "        vertical-align: top;\n",
       "    }\n",
       "\n",
       "    .dataframe thead th {\n",
       "        text-align: right;\n",
       "    }\n",
       "</style>\n",
       "<table border=\"1\" class=\"dataframe\">\n",
       "  <thead>\n",
       "    <tr style=\"text-align: right;\">\n",
       "      <th></th>\n",
       "      <th>Field1</th>\n",
       "      <th>area_code</th>\n",
       "      <th>bath</th>\n",
       "      <th>beds</th>\n",
       "      <th>rep</th>\n",
       "      <th>hold_type</th>\n",
       "      <th>property_type</th>\n",
       "      <th>sold_month</th>\n",
       "      <th>sold_year</th>\n",
       "      <th>sold_price</th>\n",
       "      <th>estimated_price</th>\n",
       "      <th>area</th>\n",
       "      <th>type_property</th>\n",
       "    </tr>\n",
       "  </thead>\n",
       "  <tbody>\n",
       "    <tr>\n",
       "      <th>1</th>\n",
       "      <td>9 Arthur Road, Erdington, Birmingham, B24 9EX</td>\n",
       "      <td>B24</td>\n",
       "      <td>1.0</td>\n",
       "      <td>4.0</td>\n",
       "      <td>3.0</td>\n",
       "      <td>FREEHOLD</td>\n",
       "      <td>MID TERRACE PROPERTY</td>\n",
       "      <td>Nov</td>\n",
       "      <td>2018</td>\n",
       "      <td>273500</td>\n",
       "      <td>348,000 - 384,000</td>\n",
       "      <td>60.0</td>\n",
       "      <td>9</td>\n",
       "    </tr>\n",
       "    <tr>\n",
       "      <th>3</th>\n",
       "      <td>2 Beverley Road, Rubery, Rednal, Birmingham, B...</td>\n",
       "      <td>B45</td>\n",
       "      <td>1.0</td>\n",
       "      <td>3.0</td>\n",
       "      <td>1.0</td>\n",
       "      <td>FREEHOLD</td>\n",
       "      <td>SEMI-DETACHED PROPERTY</td>\n",
       "      <td>Nov</td>\n",
       "      <td>2018</td>\n",
       "      <td>190000</td>\n",
       "      <td>232,000 - 256,000</td>\n",
       "      <td>86.0</td>\n",
       "      <td>2</td>\n",
       "    </tr>\n",
       "    <tr>\n",
       "      <th>4</th>\n",
       "      <td>Flat 156, Abacus Building, 246 Bradford Street...</td>\n",
       "      <td>B12</td>\n",
       "      <td>1.0</td>\n",
       "      <td>1.0</td>\n",
       "      <td>1.0</td>\n",
       "      <td>LEASEHOLD</td>\n",
       "      <td>FLAT/MAISONETTE</td>\n",
       "      <td>Nov</td>\n",
       "      <td>2018</td>\n",
       "      <td>142450</td>\n",
       "      <td>165,000 - 182,000</td>\n",
       "      <td>45.0</td>\n",
       "      <td>6</td>\n",
       "    </tr>\n",
       "    <tr>\n",
       "      <th>6</th>\n",
       "      <td>52 Caversham Place, Sutton Coldfield, B73 6HY</td>\n",
       "      <td>B73</td>\n",
       "      <td>1.0</td>\n",
       "      <td>2.0</td>\n",
       "      <td>1.0</td>\n",
       "      <td>LEASEHOLD</td>\n",
       "      <td>FLAT/MAISONETTE</td>\n",
       "      <td>Nov</td>\n",
       "      <td>2018</td>\n",
       "      <td>180000</td>\n",
       "      <td>194,000 - 214,000</td>\n",
       "      <td>55.0</td>\n",
       "      <td>6</td>\n",
       "    </tr>\n",
       "    <tr>\n",
       "      <th>8</th>\n",
       "      <td>555 Chester Road, Sutton Coldfield, B73 5HU</td>\n",
       "      <td>B73</td>\n",
       "      <td>1.0</td>\n",
       "      <td>3.0</td>\n",
       "      <td>2.0</td>\n",
       "      <td>FREEHOLD</td>\n",
       "      <td>MID TERRACE PROPERTY</td>\n",
       "      <td>Nov</td>\n",
       "      <td>2018</td>\n",
       "      <td>193000</td>\n",
       "      <td>247,000 - 273,000</td>\n",
       "      <td>95.0</td>\n",
       "      <td>9</td>\n",
       "    </tr>\n",
       "  </tbody>\n",
       "</table>\n",
       "</div>"
      ],
      "text/plain": [
       "                                              Field1 area_code  bath  beds  \\\n",
       "1      9 Arthur Road, Erdington, Birmingham, B24 9EX       B24   1.0   4.0   \n",
       "3  2 Beverley Road, Rubery, Rednal, Birmingham, B...       B45   1.0   3.0   \n",
       "4  Flat 156, Abacus Building, 246 Bradford Street...       B12   1.0   1.0   \n",
       "6      52 Caversham Place, Sutton Coldfield, B73 6HY       B73   1.0   2.0   \n",
       "8        555 Chester Road, Sutton Coldfield, B73 5HU       B73   1.0   3.0   \n",
       "\n",
       "   rep  hold_type           property_type sold_month  sold_year  sold_price  \\\n",
       "1  3.0   FREEHOLD    MID TERRACE PROPERTY        Nov       2018      273500   \n",
       "3  1.0   FREEHOLD  SEMI-DETACHED PROPERTY        Nov       2018      190000   \n",
       "4  1.0  LEASEHOLD         FLAT/MAISONETTE        Nov       2018      142450   \n",
       "6  1.0  LEASEHOLD         FLAT/MAISONETTE        Nov       2018      180000   \n",
       "8  2.0   FREEHOLD    MID TERRACE PROPERTY        Nov       2018      193000   \n",
       "\n",
       "     estimated_price  area  type_property  \n",
       "1  348,000 - 384,000  60.0              9  \n",
       "3  232,000 - 256,000  86.0              2  \n",
       "4  165,000 - 182,000  45.0              6  \n",
       "6  194,000 - 214,000  55.0              6  \n",
       "8  247,000 - 273,000  95.0              9  "
      ]
     },
     "execution_count": 14,
     "metadata": {},
     "output_type": "execute_result"
    }
   ],
   "source": [
    "data.head()"
   ]
  },
  {
   "cell_type": "code",
   "execution_count": 15,
   "id": "e3b9ab74",
   "metadata": {},
   "outputs": [
    {
     "data": {
      "text/plain": [
       "Field1             0\n",
       "area_code          0\n",
       "bath               0\n",
       "beds               0\n",
       "rep                0\n",
       "hold_type          0\n",
       "property_type      0\n",
       "sold_month         0\n",
       "sold_year          0\n",
       "sold_price         0\n",
       "estimated_price    0\n",
       "area               0\n",
       "type_property      0\n",
       "dtype: int64"
      ]
     },
     "execution_count": 15,
     "metadata": {},
     "output_type": "execute_result"
    }
   ],
   "source": [
    "data.isnull().sum()"
   ]
  },
  {
   "cell_type": "code",
   "execution_count": 16,
   "id": "641a5bbc",
   "metadata": {},
   "outputs": [
    {
     "name": "stdout",
     "output_type": "stream",
     "text": [
      "number of duplicate rows:  (0, 13)\n"
     ]
    }
   ],
   "source": [
    "duplicate_rows=data[data.duplicated()]\n",
    "print(\"number of duplicate rows: \", duplicate_rows.shape)"
   ]
  },
  {
   "cell_type": "code",
   "execution_count": 17,
   "id": "6120a712",
   "metadata": {},
   "outputs": [
    {
     "data": {
      "image/png": "[encoded data removed]",
      "text/plain": [
       "<Figure size 800x600 with 1 Axes>"
      ]
     },
     "metadata": {},
     "output_type": "display_data"
    },
    {
     "data": {
      "image/png": "[encoded data removed]",
      "text/plain": [
       "<Figure size 800x600 with 1 Axes>"
      ]
     },
     "metadata": {},
     "output_type": "display_data"
    },
    {
     "data": {
      "image/png": "[encoded data removed]",
      "text/plain": [
       "<Figure size 800x600 with 1 Axes>"
      ]
     },
     "metadata": {},
     "output_type": "display_data"
    },
    {
     "data": {
      "image/png": "[encoded data removed]",
      "text/plain": [
       "<Figure size 800x600 with 1 Axes>"
      ]
     },
     "metadata": {},
     "output_type": "display_data"
    },
    {
     "data": {
      "image/png": "[encoded data removed]",
      "text/plain": [
       "<Figure size 800x600 with 1 Axes>"
      ]
     },
     "metadata": {},
     "output_type": "display_data"
    }
   ],
   "source": [
    "import seaborn as sns\n",
    "import matplotlib.pyplot as plt\n",
    "def visualize_outliers(data, column_name):\n",
    "    plt.figure(figsize=(8, 6))\n",
    "    sns.boxplot(x=data[column_name])\n",
    "    plt.title(f'Boxplot of {column_name}')\n",
    "    plt.show()\n",
    "\n",
    "# Visualize outliers in the 'sold_price' column\n",
    "visualize_outliers(data, 'sold_price')\n",
    "visualize_outliers(data, 'bath')\n",
    "visualize_outliers(data, 'beds')\n",
    "visualize_outliers(data, 'rep')\n",
    "visualize_outliers(data, 'area')\n"
   ]
  },
  {
   "cell_type": "code",
   "execution_count": 18,
   "id": "1fc32e63",
   "metadata": {},
   "outputs": [
    {
     "name": "stdout",
     "output_type": "stream",
     "text": [
      "bath                 0.0\n",
      "beds                 1.0\n",
      "rep                  1.0\n",
      "sold_year            1.0\n",
      "sold_price       95250.0\n",
      "area                22.0\n",
      "type_property        5.0\n",
      "dtype: float64\n"
     ]
    }
   ],
   "source": [
    "Q1=data.quantile(0.25)\n",
    "Q3=data.quantile(0.75)\n",
    "IQR=Q3-Q1\n",
    "print(IQR)"
   ]
  },
  {
   "cell_type": "code",
   "execution_count": 19,
   "id": "18d880cd",
   "metadata": {},
   "outputs": [
    {
     "data": {
      "text/html": [
       "<div>\n",
       "<style scoped>\n",
       "    .dataframe tbody tr th:only-of-type {\n",
       "        vertical-align: middle;\n",
       "    }\n",
       "\n",
       "    .dataframe tbody tr th {\n",
       "        vertical-align: top;\n",
       "    }\n",
       "\n",
       "    .dataframe thead th {\n",
       "        text-align: right;\n",
       "    }\n",
       "</style>\n",
       "<table border=\"1\" class=\"dataframe\">\n",
       "  <thead>\n",
       "    <tr style=\"text-align: right;\">\n",
       "      <th></th>\n",
       "      <th>Field1</th>\n",
       "      <th>area_code</th>\n",
       "      <th>bath</th>\n",
       "      <th>beds</th>\n",
       "      <th>rep</th>\n",
       "      <th>hold_type</th>\n",
       "      <th>property_type</th>\n",
       "      <th>sold_month</th>\n",
       "      <th>sold_year</th>\n",
       "      <th>sold_price</th>\n",
       "      <th>estimated_price</th>\n",
       "      <th>area</th>\n",
       "      <th>type_property</th>\n",
       "    </tr>\n",
       "  </thead>\n",
       "  <tbody>\n",
       "    <tr>\n",
       "      <th>1</th>\n",
       "      <td>9 Arthur Road, Erdington, Birmingham, B24 9EX</td>\n",
       "      <td>B24</td>\n",
       "      <td>1.0</td>\n",
       "      <td>4.0</td>\n",
       "      <td>3.0</td>\n",
       "      <td>FREEHOLD</td>\n",
       "      <td>MID TERRACE PROPERTY</td>\n",
       "      <td>Nov</td>\n",
       "      <td>2018</td>\n",
       "      <td>273500</td>\n",
       "      <td>348,000 - 384,000</td>\n",
       "      <td>60.0</td>\n",
       "      <td>9</td>\n",
       "    </tr>\n",
       "    <tr>\n",
       "      <th>3</th>\n",
       "      <td>2 Beverley Road, Rubery, Rednal, Birmingham, B...</td>\n",
       "      <td>B45</td>\n",
       "      <td>1.0</td>\n",
       "      <td>3.0</td>\n",
       "      <td>1.0</td>\n",
       "      <td>FREEHOLD</td>\n",
       "      <td>SEMI-DETACHED PROPERTY</td>\n",
       "      <td>Nov</td>\n",
       "      <td>2018</td>\n",
       "      <td>190000</td>\n",
       "      <td>232,000 - 256,000</td>\n",
       "      <td>86.0</td>\n",
       "      <td>2</td>\n",
       "    </tr>\n",
       "    <tr>\n",
       "      <th>4</th>\n",
       "      <td>Flat 156, Abacus Building, 246 Bradford Street...</td>\n",
       "      <td>B12</td>\n",
       "      <td>1.0</td>\n",
       "      <td>1.0</td>\n",
       "      <td>1.0</td>\n",
       "      <td>LEASEHOLD</td>\n",
       "      <td>FLAT/MAISONETTE</td>\n",
       "      <td>Nov</td>\n",
       "      <td>2018</td>\n",
       "      <td>142450</td>\n",
       "      <td>165,000 - 182,000</td>\n",
       "      <td>45.0</td>\n",
       "      <td>6</td>\n",
       "    </tr>\n",
       "    <tr>\n",
       "      <th>6</th>\n",
       "      <td>52 Caversham Place, Sutton Coldfield, B73 6HY</td>\n",
       "      <td>B73</td>\n",
       "      <td>1.0</td>\n",
       "      <td>2.0</td>\n",
       "      <td>1.0</td>\n",
       "      <td>LEASEHOLD</td>\n",
       "      <td>FLAT/MAISONETTE</td>\n",
       "      <td>Nov</td>\n",
       "      <td>2018</td>\n",
       "      <td>180000</td>\n",
       "      <td>194,000 - 214,000</td>\n",
       "      <td>55.0</td>\n",
       "      <td>6</td>\n",
       "    </tr>\n",
       "    <tr>\n",
       "      <th>8</th>\n",
       "      <td>555 Chester Road, Sutton Coldfield, B73 5HU</td>\n",
       "      <td>B73</td>\n",
       "      <td>1.0</td>\n",
       "      <td>3.0</td>\n",
       "      <td>2.0</td>\n",
       "      <td>FREEHOLD</td>\n",
       "      <td>MID TERRACE PROPERTY</td>\n",
       "      <td>Nov</td>\n",
       "      <td>2018</td>\n",
       "      <td>193000</td>\n",
       "      <td>247,000 - 273,000</td>\n",
       "      <td>95.0</td>\n",
       "      <td>9</td>\n",
       "    </tr>\n",
       "  </tbody>\n",
       "</table>\n",
       "</div>"
      ],
      "text/plain": [
       "                                              Field1 area_code  bath  beds  \\\n",
       "1      9 Arthur Road, Erdington, Birmingham, B24 9EX       B24   1.0   4.0   \n",
       "3  2 Beverley Road, Rubery, Rednal, Birmingham, B...       B45   1.0   3.0   \n",
       "4  Flat 156, Abacus Building, 246 Bradford Street...       B12   1.0   1.0   \n",
       "6      52 Caversham Place, Sutton Coldfield, B73 6HY       B73   1.0   2.0   \n",
       "8        555 Chester Road, Sutton Coldfield, B73 5HU       B73   1.0   3.0   \n",
       "\n",
       "   rep  hold_type           property_type sold_month  sold_year  sold_price  \\\n",
       "1  3.0   FREEHOLD    MID TERRACE PROPERTY        Nov       2018      273500   \n",
       "3  1.0   FREEHOLD  SEMI-DETACHED PROPERTY        Nov       2018      190000   \n",
       "4  1.0  LEASEHOLD         FLAT/MAISONETTE        Nov       2018      142450   \n",
       "6  1.0  LEASEHOLD         FLAT/MAISONETTE        Nov       2018      180000   \n",
       "8  2.0   FREEHOLD    MID TERRACE PROPERTY        Nov       2018      193000   \n",
       "\n",
       "     estimated_price  area  type_property  \n",
       "1  348,000 - 384,000  60.0              9  \n",
       "3  232,000 - 256,000  86.0              2  \n",
       "4  165,000 - 182,000  45.0              6  \n",
       "6  194,000 - 214,000  55.0              6  \n",
       "8  247,000 - 273,000  95.0              9  "
      ]
     },
     "execution_count": 19,
     "metadata": {},
     "output_type": "execute_result"
    }
   ],
   "source": [
    "data.head()"
   ]
  },
  {
   "cell_type": "code",
   "execution_count": 20,
   "id": "6ffc4faa",
   "metadata": {},
   "outputs": [
    {
     "data": {
      "text/plain": [
       "\"def handle_outliers_robust(data, column_name):\\n    # Calculate robust statistics\\n    median = data[column_name].median()\\n    q1 = data[column_name].quantile(0.25)\\n    q3 = data[column_name].quantile(0.75)\\n    iqr = q3 - q1\\n    \\n    # Set bounds for outliers\\n    lower_bound = q1 - 1.5 * iqr\\n    upper_bound = q3 + 1.5 * iqr\\n    \\n    # Replace outliers with median\\n    data[column_name] = np.where(data[column_name] < lower_bound, median, data[column_name])\\n    data[column_name] = np.where(data[column_name] > upper_bound, median, data[column_name])\\n    \\n    return data\\n\\n# Handle outliers using robust statistics\\ndata = handle_outliers_robust(data, 'sold_price')\\n\\n# Visualize the data after handling outliers\\nplt.figure(figsize=(8, 6))\\nsns.boxplot(x=data['sold_price'])\\nplt.title('Boxplot of sold_price after Handling Outliers (Robust Statistics)')\\nplt.show()\\n\\n# Display the DataFrame after handling outliers\\nprint(data)\""
      ]
     },
     "execution_count": 20,
     "metadata": {},
     "output_type": "execute_result"
    }
   ],
   "source": [
    "# Function to handle outliers using robust statistics\n",
    "'''def handle_outliers_robust(data, column_name):\n",
    "    # Calculate robust statistics\n",
    "    median = data[column_name].median()\n",
    "    q1 = data[column_name].quantile(0.25)\n",
    "    q3 = data[column_name].quantile(0.75)\n",
    "    iqr = q3 - q1\n",
    "    \n",
    "    # Set bounds for outliers\n",
    "    lower_bound = q1 - 1.5 * iqr\n",
    "    upper_bound = q3 + 1.5 * iqr\n",
    "    \n",
    "    # Replace outliers with median\n",
    "    data[column_name] = np.where(data[column_name] < lower_bound, median, data[column_name])\n",
    "    data[column_name] = np.where(data[column_name] > upper_bound, median, data[column_name])\n",
    "    \n",
    "    return data\n",
    "\n",
    "# Handle outliers using robust statistics\n",
    "data = handle_outliers_robust(data, 'sold_price')\n",
    "\n",
    "# Visualize the data after handling outliers\n",
    "plt.figure(figsize=(8, 6))\n",
    "sns.boxplot(x=data['sold_price'])\n",
    "plt.title('Boxplot of sold_price after Handling Outliers (Robust Statistics)')\n",
    "plt.show()\n",
    "\n",
    "# Display the DataFrame after handling outliers\n",
    "print(data)'''"
   ]
  },
  {
   "cell_type": "code",
   "execution_count": 21,
   "id": "3b4d861d",
   "metadata": {},
   "outputs": [
    {
     "data": {
      "text/html": [
       "<div>\n",
       "<style scoped>\n",
       "    .dataframe tbody tr th:only-of-type {\n",
       "        vertical-align: middle;\n",
       "    }\n",
       "\n",
       "    .dataframe tbody tr th {\n",
       "        vertical-align: top;\n",
       "    }\n",
       "\n",
       "    .dataframe thead th {\n",
       "        text-align: right;\n",
       "    }\n",
       "</style>\n",
       "<table border=\"1\" class=\"dataframe\">\n",
       "  <thead>\n",
       "    <tr style=\"text-align: right;\">\n",
       "      <th></th>\n",
       "      <th>Field1</th>\n",
       "      <th>area_code</th>\n",
       "      <th>bath</th>\n",
       "      <th>beds</th>\n",
       "      <th>rep</th>\n",
       "      <th>hold_type</th>\n",
       "      <th>property_type</th>\n",
       "      <th>sold_month</th>\n",
       "      <th>sold_year</th>\n",
       "      <th>sold_price</th>\n",
       "      <th>estimated_price</th>\n",
       "      <th>area</th>\n",
       "      <th>type_property</th>\n",
       "    </tr>\n",
       "  </thead>\n",
       "  <tbody>\n",
       "    <tr>\n",
       "      <th>1</th>\n",
       "      <td>9 Arthur Road, Erdington, Birmingham, B24 9EX</td>\n",
       "      <td>B24</td>\n",
       "      <td>1.0</td>\n",
       "      <td>4.0</td>\n",
       "      <td>3.0</td>\n",
       "      <td>FREEHOLD</td>\n",
       "      <td>MID TERRACE PROPERTY</td>\n",
       "      <td>Nov</td>\n",
       "      <td>2018</td>\n",
       "      <td>273500</td>\n",
       "      <td>348,000 - 384,000</td>\n",
       "      <td>60.0</td>\n",
       "      <td>9</td>\n",
       "    </tr>\n",
       "    <tr>\n",
       "      <th>3</th>\n",
       "      <td>2 Beverley Road, Rubery, Rednal, Birmingham, B...</td>\n",
       "      <td>B45</td>\n",
       "      <td>1.0</td>\n",
       "      <td>3.0</td>\n",
       "      <td>1.0</td>\n",
       "      <td>FREEHOLD</td>\n",
       "      <td>SEMI-DETACHED PROPERTY</td>\n",
       "      <td>Nov</td>\n",
       "      <td>2018</td>\n",
       "      <td>190000</td>\n",
       "      <td>232,000 - 256,000</td>\n",
       "      <td>86.0</td>\n",
       "      <td>2</td>\n",
       "    </tr>\n",
       "    <tr>\n",
       "      <th>4</th>\n",
       "      <td>Flat 156, Abacus Building, 246 Bradford Street...</td>\n",
       "      <td>B12</td>\n",
       "      <td>1.0</td>\n",
       "      <td>1.0</td>\n",
       "      <td>1.0</td>\n",
       "      <td>LEASEHOLD</td>\n",
       "      <td>FLAT/MAISONETTE</td>\n",
       "      <td>Nov</td>\n",
       "      <td>2018</td>\n",
       "      <td>142450</td>\n",
       "      <td>165,000 - 182,000</td>\n",
       "      <td>45.0</td>\n",
       "      <td>6</td>\n",
       "    </tr>\n",
       "    <tr>\n",
       "      <th>6</th>\n",
       "      <td>52 Caversham Place, Sutton Coldfield, B73 6HY</td>\n",
       "      <td>B73</td>\n",
       "      <td>1.0</td>\n",
       "      <td>2.0</td>\n",
       "      <td>1.0</td>\n",
       "      <td>LEASEHOLD</td>\n",
       "      <td>FLAT/MAISONETTE</td>\n",
       "      <td>Nov</td>\n",
       "      <td>2018</td>\n",
       "      <td>180000</td>\n",
       "      <td>194,000 - 214,000</td>\n",
       "      <td>55.0</td>\n",
       "      <td>6</td>\n",
       "    </tr>\n",
       "    <tr>\n",
       "      <th>8</th>\n",
       "      <td>555 Chester Road, Sutton Coldfield, B73 5HU</td>\n",
       "      <td>B73</td>\n",
       "      <td>1.0</td>\n",
       "      <td>3.0</td>\n",
       "      <td>2.0</td>\n",
       "      <td>FREEHOLD</td>\n",
       "      <td>MID TERRACE PROPERTY</td>\n",
       "      <td>Nov</td>\n",
       "      <td>2018</td>\n",
       "      <td>193000</td>\n",
       "      <td>247,000 - 273,000</td>\n",
       "      <td>95.0</td>\n",
       "      <td>9</td>\n",
       "    </tr>\n",
       "  </tbody>\n",
       "</table>\n",
       "</div>"
      ],
      "text/plain": [
       "                                              Field1 area_code  bath  beds  \\\n",
       "1      9 Arthur Road, Erdington, Birmingham, B24 9EX       B24   1.0   4.0   \n",
       "3  2 Beverley Road, Rubery, Rednal, Birmingham, B...       B45   1.0   3.0   \n",
       "4  Flat 156, Abacus Building, 246 Bradford Street...       B12   1.0   1.0   \n",
       "6      52 Caversham Place, Sutton Coldfield, B73 6HY       B73   1.0   2.0   \n",
       "8        555 Chester Road, Sutton Coldfield, B73 5HU       B73   1.0   3.0   \n",
       "\n",
       "   rep  hold_type           property_type sold_month  sold_year  sold_price  \\\n",
       "1  3.0   FREEHOLD    MID TERRACE PROPERTY        Nov       2018      273500   \n",
       "3  1.0   FREEHOLD  SEMI-DETACHED PROPERTY        Nov       2018      190000   \n",
       "4  1.0  LEASEHOLD         FLAT/MAISONETTE        Nov       2018      142450   \n",
       "6  1.0  LEASEHOLD         FLAT/MAISONETTE        Nov       2018      180000   \n",
       "8  2.0   FREEHOLD    MID TERRACE PROPERTY        Nov       2018      193000   \n",
       "\n",
       "     estimated_price  area  type_property  \n",
       "1  348,000 - 384,000  60.0              9  \n",
       "3  232,000 - 256,000  86.0              2  \n",
       "4  165,000 - 182,000  45.0              6  \n",
       "6  194,000 - 214,000  55.0              6  \n",
       "8  247,000 - 273,000  95.0              9  "
      ]
     },
     "execution_count": 21,
     "metadata": {},
     "output_type": "execute_result"
    }
   ],
   "source": [
    "data.head()"
   ]
  },
  {
   "cell_type": "code",
   "execution_count": 22,
   "id": "7604d81a",
   "metadata": {},
   "outputs": [
    {
     "data": {
      "text/plain": [
       "'def handle_outliers(data, column_name, method=\\'winsorize\\', threshold=0.95):\\n    # Identify outliers using IQR\\n    q1 = data[column_name].quantile(0.25)\\n    q3 = data[column_name].quantile(0.75)\\n    iqr = q3 - q1\\n    lower_bound = q1 - 1.5 * iqr\\n    upper_bound = q3 + 1.5 * iqr\\n    \\n    # Handle outliers based on the chosen method\\n    if method == \\'remove\\':\\n        data = data[(df[column_name] >= lower_bound) & (data[column_name] <= upper_bound)]\\n    elif method == \\'transform_log\\':\\n        data[column_name] = np.log1p(data[column_name])\\n    elif method == \\'winsorize\\':\\n        data[column_name] = np.where(data[column_name] < lower_bound, lower_bound, data[column_name])\\n        data[column_name] = np.where(data[column_name] > upper_bound, upper_bound, data[column_name])\\n    else:\\n        raise ValueError(\"Invalid method. Choose \\'remove\\', \\'transform_log\\', or \\'winsorize\\'.\")\\n    \\n    return data\\n\\n# Choose a method to handle outliers\\ndata = handle_outliers(data, \\'sold_price\\', method=\\'transform_log\\')\\n\\n# Display the DataFrame after handling outliers\\nprint(data)'"
      ]
     },
     "execution_count": 22,
     "metadata": {},
     "output_type": "execute_result"
    }
   ],
   "source": [
    "'''def handle_outliers(data, column_name, method='winsorize', threshold=0.95):\n",
    "    # Identify outliers using IQR\n",
    "    q1 = data[column_name].quantile(0.25)\n",
    "    q3 = data[column_name].quantile(0.75)\n",
    "    iqr = q3 - q1\n",
    "    lower_bound = q1 - 1.5 * iqr\n",
    "    upper_bound = q3 + 1.5 * iqr\n",
    "    \n",
    "    # Handle outliers based on the chosen method\n",
    "    if method == 'remove':\n",
    "        data = data[(df[column_name] >= lower_bound) & (data[column_name] <= upper_bound)]\n",
    "    elif method == 'transform_log':\n",
    "        data[column_name] = np.log1p(data[column_name])\n",
    "    elif method == 'winsorize':\n",
    "        data[column_name] = np.where(data[column_name] < lower_bound, lower_bound, data[column_name])\n",
    "        data[column_name] = np.where(data[column_name] > upper_bound, upper_bound, data[column_name])\n",
    "    else:\n",
    "        raise ValueError(\"Invalid method. Choose 'remove', 'transform_log', or 'winsorize'.\")\n",
    "    \n",
    "    return data\n",
    "\n",
    "# Choose a method to handle outliers\n",
    "data = handle_outliers(data, 'sold_price', method='transform_log')\n",
    "\n",
    "# Display the DataFrame after handling outliers\n",
    "print(data)'''"
   ]
  },
  {
   "cell_type": "code",
   "execution_count": 25,
   "id": "018a8529",
   "metadata": {},
   "outputs": [
    {
     "name": "stdout",
     "output_type": "stream",
     "text": [
      "              bath         beds          rep    sold_year    sold_price         area  type_property\n",
      "count  1071.000000  1071.000000  1071.000000  1071.000000  1.071000e+03  1071.000000    1071.000000\n",
      "mean      1.214753     2.730159     1.457516  2018.597572  2.059199e+05    82.652661       4.358543\n",
      "std       0.499165     0.880217     0.621888     0.786304  1.237890e+05    18.331190       2.841008\n",
      "min       1.000000     1.000000     1.000000  2018.000000  1.771000e+04    40.000000       1.000000\n",
      "25%       1.000000     2.000000     1.000000  2018.000000  1.400000e+05    71.000000       2.000000\n",
      "50%       1.000000     3.000000     1.000000  2018.000000  1.800000e+05    85.000000       3.000000\n",
      "75%       1.000000     3.000000     2.000000  2019.000000  2.352500e+05    93.000000       7.000000\n",
      "max       5.000000     9.000000     5.000000  2020.000000  1.625000e+06   275.000000       9.000000\n"
     ]
    }
   ],
   "source": [
    "# Display descriptive statistics\n",
    "descriptive_stats = data.describe()\n",
    "\n",
    "# Print the results\n",
    "print(descriptive_stats.to_string())"
   ]
  },
  {
   "cell_type": "code",
   "execution_count": 24,
   "id": "391f34c8",
   "metadata": {},
   "outputs": [
    {
     "ename": "AttributeError",
     "evalue": "'DataFrame' object has no attribute 'xquantile'",
     "output_type": "error",
     "traceback": [
      "\u001b[1;31m---------------------------------------------------------------------------\u001b[0m",
      "\u001b[1;31mAttributeError\u001b[0m                            Traceback (most recent call last)",
      "\u001b[1;32m~\\AppData\\Local\\Temp\\ipykernel_27676\\2329205761.py\u001b[0m in \u001b[0;36m<module>\u001b[1;34m\u001b[0m\n\u001b[0;32m      1\u001b[0m \u001b[0mQ1\u001b[0m\u001b[1;33m=\u001b[0m\u001b[0mdata\u001b[0m\u001b[1;33m.\u001b[0m\u001b[0mquantile\u001b[0m\u001b[1;33m(\u001b[0m\u001b[1;36m0.25\u001b[0m\u001b[1;33m)\u001b[0m\u001b[1;33m\u001b[0m\u001b[1;33m\u001b[0m\u001b[0m\n\u001b[1;32m----> 2\u001b[1;33m \u001b[0mQ3\u001b[0m\u001b[1;33m=\u001b[0m\u001b[0mdata\u001b[0m\u001b[1;33m.\u001b[0m\u001b[0mxquantile\u001b[0m\u001b[1;33m(\u001b[0m\u001b[1;36m0.75\u001b[0m\u001b[1;33m)\u001b[0m\u001b[1;33m\u001b[0m\u001b[1;33m\u001b[0m\u001b[0m\n\u001b[0m\u001b[0;32m      3\u001b[0m \u001b[0mIQR\u001b[0m\u001b[1;33m=\u001b[0m\u001b[0mQ3\u001b[0m\u001b[1;33m-\u001b[0m\u001b[0mQ1\u001b[0m\u001b[1;33m\u001b[0m\u001b[1;33m\u001b[0m\u001b[0m\n\u001b[0;32m      4\u001b[0m \u001b[0mprint\u001b[0m\u001b[1;33m(\u001b[0m\u001b[0mIQR\u001b[0m\u001b[1;33m)\u001b[0m\u001b[1;33m\u001b[0m\u001b[1;33m\u001b[0m\u001b[0m\n",
      "\u001b[1;32m~\\anaconda3\\lib\\site-packages\\pandas\\core\\generic.py\u001b[0m in \u001b[0;36m__getattr__\u001b[1;34m(self, name)\u001b[0m\n\u001b[0;32m   5573\u001b[0m         ):\n\u001b[0;32m   5574\u001b[0m             \u001b[1;32mreturn\u001b[0m \u001b[0mself\u001b[0m\u001b[1;33m[\u001b[0m\u001b[0mname\u001b[0m\u001b[1;33m]\u001b[0m\u001b[1;33m\u001b[0m\u001b[1;33m\u001b[0m\u001b[0m\n\u001b[1;32m-> 5575\u001b[1;33m         \u001b[1;32mreturn\u001b[0m \u001b[0mobject\u001b[0m\u001b[1;33m.\u001b[0m\u001b[0m__getattribute__\u001b[0m\u001b[1;33m(\u001b[0m\u001b[0mself\u001b[0m\u001b[1;33m,\u001b[0m \u001b[0mname\u001b[0m\u001b[1;33m)\u001b[0m\u001b[1;33m\u001b[0m\u001b[1;33m\u001b[0m\u001b[0m\n\u001b[0m\u001b[0;32m   5576\u001b[0m \u001b[1;33m\u001b[0m\u001b[0m\n\u001b[0;32m   5577\u001b[0m     \u001b[1;32mdef\u001b[0m \u001b[0m__setattr__\u001b[0m\u001b[1;33m(\u001b[0m\u001b[0mself\u001b[0m\u001b[1;33m,\u001b[0m \u001b[0mname\u001b[0m\u001b[1;33m:\u001b[0m \u001b[0mstr\u001b[0m\u001b[1;33m,\u001b[0m \u001b[0mvalue\u001b[0m\u001b[1;33m)\u001b[0m \u001b[1;33m->\u001b[0m \u001b[1;32mNone\u001b[0m\u001b[1;33m:\u001b[0m\u001b[1;33m\u001b[0m\u001b[1;33m\u001b[0m\u001b[0m\n",
      "\u001b[1;31mAttributeError\u001b[0m: 'DataFrame' object has no attribute 'xquantile'"
     ]
    }
   ],
   "source": [
    "Q1=data.quantile(0.25)\n",
    "Q3=data.xquantile(0.75)\n",
    "IQR=Q3-Q1\n",
    "print(IQR)"
   ]
  },
  {
   "cell_type": "code",
   "execution_count": null,
   "id": "ba4298aa",
   "metadata": {},
   "outputs": [],
   "source": [
    "# list of numerical variables\n",
    "numerical_features = [feature for feature in data.columns if data[feature].dtypes != 'O']\n",
    "\n",
    "print('Number of numerical variables: ', len(numerical_features))\n",
    "\n",
    "# visualise the numerical variables\n",
    "data[numerical_features].head()"
   ]
  },
  {
   "cell_type": "code",
   "execution_count": null,
   "id": "aac61901",
   "metadata": {},
   "outputs": [],
   "source": [
    "year_feature = [feature for feature in numerical_features if 'Yr' in feature or 'Year' in feature]\n",
    "\n",
    "year_feature"
   ]
  },
  {
   "cell_type": "code",
   "execution_count": null,
   "id": "83b6bb0e",
   "metadata": {},
   "outputs": [],
   "source": [
    "discrete_feature=[feature for feature in numerical_features if len(data[feature].unique())<25 and feature not in year_feature+['Id']]\n",
    "print(\"Discrete Variables Count: {}\".format(len(discrete_feature)))"
   ]
  },
  {
   "cell_type": "code",
   "execution_count": null,
   "id": "9eefcfad",
   "metadata": {},
   "outputs": [],
   "source": [
    "discrete_feature"
   ]
  },
  {
   "cell_type": "code",
   "execution_count": null,
   "id": "bfaab006",
   "metadata": {},
   "outputs": [],
   "source": [
    "data[discrete_feature].head()"
   ]
  },
  {
   "cell_type": "code",
   "execution_count": null,
   "id": "80ca8b5e",
   "metadata": {},
   "outputs": [],
   "source": [
    "for feature in discrete_feature:\n",
    "    data=data.copy()\n",
    "    data.groupby(feature)['sold_price'].median().plot.bar()\n",
    "    plt.xlabel(feature)\n",
    "    plt.ylabel('sold_price')\n",
    "    plt.title(feature)\n",
    "    plt.show()"
   ]
  },
  {
   "cell_type": "code",
   "execution_count": null,
   "id": "12bef7df",
   "metadata": {},
   "outputs": [],
   "source": [
    "data.head()"
   ]
  },
  {
   "cell_type": "code",
   "execution_count": null,
   "id": "2b6bebd2",
   "metadata": {},
   "outputs": [],
   "source": [
    "# Create a dictionary mapping each postcode to its adjacent area\n",
    "postcode_to_area = {\n",
    "    'B25': 'Yardley',\n",
    "    'B23': 'Erdington',\n",
    "    'B17': 'Edgbaston',\n",
    "    'B67': 'Smethwick',\n",
    "    'B18': 'Winson Green',\n",
    "    'B31': 'Northfield',\n",
    "    'B14': 'Kings Heath',\n",
    "    'B43': 'Great Barr',\n",
    "    'B11': 'Sparkhill',\n",
    "    'B24': 'Erdington',\n",
    "    'B29': 'Selly Oak',\n",
    "    'B44': 'Perry Barr',\n",
    "    'B5': 'Digbeth',\n",
    "    'B37': 'Chelmsley Wood',\n",
    "    'B30': 'Bournville',\n",
    "    'B38': 'Kings Norton',\n",
    "    'B20': 'Handsworth Wood',\n",
    "    'B28': 'Hall Green',\n",
    "    'B90': 'Solihull',\n",
    "    'B1': 'City Centre',\n",
    "    'B32': 'Woodgate',\n",
    "    'B73': 'New Oscott',\n",
    "    'B8': 'Alum Rock',\n",
    "    'B7': 'Nechells',\n",
    "    'B33': 'Kitts Green',\n",
    "    'B13': 'Moseley',\n",
    "    'B45': 'Rendal',\n",
    "    'B34': 'Shard End',\n",
    "    'B21': 'Handsworth Wood',\n",
    "    'B6': 'Aston',\n",
    "    'B71': 'West Bromwich',\n",
    "    'B47': 'Hollywood',\n",
    "    'B12': 'Balsall Heath',\n",
    "    'B26': 'Yardley',\n",
    "    'B19': 'Lozells',\n",
    "    'B42': 'Perry Barr',\n",
    "    'B27': 'Acocks Green',\n",
    "    'B15': 'Edgbaston',\n",
    "    'B16': 'Edgbaston',\n",
    "    'B92': 'Solihull',\n",
    "    'B36': 'Castle Bromwich',\n",
    "    'B35': 'Castle Vale',\n",
    "    'B9': 'Bordesley Green',\n",
    "    'B72': 'Sutton Coldfield',\n",
    "    'B10': 'Small Heath',\n",
    "    'B2': 'City Centre',\n",
    "    'B76': 'Sutton Coldfield',\n",
    "    'B66': 'Smethwick',\n",
    "    'B4': 'City Centre',\n",
    "    'B48': 'Alvechurch',\n",
    "    'B3': 'City Centre',\n",
    "    'B68': 'Langley',\n",
    "    'B46': 'Coleshill',\n",
    "    'B74': 'Four Oaks'\n",
    "}\n",
    "\n",
    "# Create a new column 'Adjacent_Area' based on the mapping\n",
    "data['Adjacent_Area'] = data['area_code'].map(postcode_to_area)\n",
    "\n",
    "# Display the updated DataFrame\n",
    "data.head()"
   ]
  },
  {
   "cell_type": "code",
   "execution_count": null,
   "id": "57b4ae1a",
   "metadata": {},
   "outputs": [],
   "source": [
    "import pandas as pd\n",
    "\n",
    "# Assuming you have a DataFrame named 'data' with 'sold_month' and 'sold_year' columns\n",
    "\n",
    "# Convert 'sold_month' and 'sold_year' to datetime\n",
    "data['sold_date'] = pd.to_datetime(data['sold_year'].astype(str) + '-' + data['sold_month'].astype(str) + '-1')\n",
    "\n",
    "# Extract additional features and format 'quarter' column\n",
    "data['quarter'] = data['sold_date'].dt.to_period(\"Q\").astype(str)\n",
    "\n",
    "# Modify the 'quarter' column to only consist of 'q1', 'q2', 'q3', 'q4'\n",
    "data['quarter'] = 'q' + data['quarter'].str[-1]\n",
    "\n",
    "# Drop the 'sold_date' column\n",
    "data = data.drop('sold_date', axis=1)\n",
    "\n",
    "# Display the updated DataFrame\n",
    "print(data.head())\n"
   ]
  },
  {
   "cell_type": "code",
   "execution_count": null,
   "id": "172ca1d0",
   "metadata": {},
   "outputs": [],
   "source": [
    "data.head()"
   ]
  },
  {
   "cell_type": "code",
   "execution_count": null,
   "id": "8e684a78",
   "metadata": {},
   "outputs": [],
   "source": [
    "# Plotting a bar chart for the count of properties in each adjacent area with rotated x-axis labels\n",
    "plt.figure(figsize=(12, 6))\n",
    "sns.countplot(x='Adjacent_Area', data=data)\n",
    "plt.title('Count of Properties in Each Adjacent Area')\n",
    "plt.xlabel('Adjacent Area')\n",
    "plt.ylabel('Count')\n",
    "plt.xticks(rotation=90)  # Rotate x-axis labels by 90 degrees\n",
    "plt.show()"
   ]
  },
  {
   "cell_type": "code",
   "execution_count": null,
   "id": "0b0cc5b4",
   "metadata": {},
   "outputs": [],
   "source": [
    "import matplotlib.pyplot as plt\n",
    "import seaborn as sns\n",
    "\n",
    "# Assuming 'sold_price' is a column in your DataFrame\n",
    "\n",
    "# Visualization 1: Histogram for Sold Prices with adjusted x-axis ticks\n",
    "plt.figure(figsize=(10, 6))\n",
    "sns.histplot(data['sold_price'], bins=20, kde=True)\n",
    "plt.title('Histogram for Sold Prices')\n",
    "\n",
    "# Adjust x-axis ticks\n",
    "plt.xticks(range(100000, int(data['sold_price'].max()) + 1, 50000))\n",
    "\n",
    "plt.show()\n"
   ]
  },
  {
   "cell_type": "code",
   "execution_count": null,
   "id": "24448d4e",
   "metadata": {},
   "outputs": [],
   "source": [
    "import pandas as pd\n",
    "import matplotlib.pyplot as plt\n",
    "import seaborn as sns\n",
    "\n",
    "# Assuming your data is stored in a DataFrame called 'df'\n",
    "# Replace 'df' with your actual DataFrame name\n",
    "\n",
    "# Visualization 1: Histogram for Sold Prices\n",
    "plt.figure(figsize=(10, 6))\n",
    "sns.histplot(data['sold_price'], bins=20, kde=True)\n",
    "plt.title('Histogram for Sold Prices')\n",
    "plt.show()\n"
   ]
  },
  {
   "cell_type": "code",
   "execution_count": null,
   "id": "6e2f1e06",
   "metadata": {},
   "outputs": [],
   "source": [
    "# Visualization 2: Horizontal Bar Chart for Sold Prices by Property Type\n",
    "plt.figure(figsize=(12, 8))\n",
    "sns.barplot(x='sold_price', y='property_type', data=data, palette='viridis')\n",
    "plt.title('Sold Prices by Property Type')\n",
    "plt.xlabel('Sold Prices')\n",
    "plt.ylabel('Property Type')\n",
    "plt.show()"
   ]
  },
  {
   "cell_type": "code",
   "execution_count": null,
   "id": "61f484c7",
   "metadata": {},
   "outputs": [],
   "source": [
    "import pandas as pd\n",
    "\n",
    "# Assuming you have a DataFrame named 'data' with a 'sold_price' column\n",
    "\n",
    "# Define the price range bins\n",
    "price_bins = [50000, 100000, 150000, 200000, 250000, 300000, 350000, 400000, 450000, 500000]\n",
    "\n",
    "# Create a new column 'price_range' based on the 'sold_price' column\n",
    "data['price_range'] = pd.cut(data['sold_price'], bins=price_bins, labels=[f'{low}-{high}' for low, high in zip(price_bins[:-1], price_bins[1:])])\n",
    "\n",
    "# Display the DataFrame with the new 'price_range' column\n",
    "print(data[['sold_price', 'price_range']])\n"
   ]
  },
  {
   "cell_type": "code",
   "execution_count": null,
   "id": "7cd47f6d",
   "metadata": {},
   "outputs": [],
   "source": [
    "# Visualization 1: Histogram for Sold Prices\n",
    "plt.figure(figsize=(10, 6))\n",
    "sns.histplot(data['price_range'], bins=20, kde=True)\n",
    "plt.title('Histogram for Sold Prices')\n",
    "plt.xticks(rotation=45, ha='right')\n",
    "plt.show()\n"
   ]
  },
  {
   "cell_type": "code",
   "execution_count": null,
   "id": "918fc61c",
   "metadata": {},
   "outputs": [],
   "source": [
    "# Visualization 3: Bar Chart for Property Types\n",
    "plt.figure(figsize=(10, 6))\n",
    "sns.countplot(x='property_type', data=data)\n",
    "plt.title('Bar Chart for Property Types')\n",
    "# Rotate x-axis labels for better readability\n",
    "plt.xticks(rotation=45, ha='right')\n",
    "plt.show()"
   ]
  },
  {
   "cell_type": "code",
   "execution_count": null,
   "id": "b84d2575",
   "metadata": {},
   "outputs": [],
   "source": [
    "# Visualization 4: Scatter Plot for Beds vs. Sold Price with y-axis starting from 1\n",
    "\n",
    "plt.figure(figsize=(10, 6))\n",
    "sns.scatterplot(x='beds', y='sold_price', data=data)\n",
    "plt.title('Scatter Plot for Beds vs. Sold Price')\n",
    "plt.ylim(1, None)  # Set the lower limit of y-axis to 1\n",
    "plt.show()"
   ]
  },
  {
   "cell_type": "code",
   "execution_count": null,
   "id": "b4254069",
   "metadata": {},
   "outputs": [],
   "source": [
    "# Visualization 5: Line Chart for Monthly Sold Prices\n",
    "plt.figure(figsize=(12, 8))\n",
    "sns.lineplot(x='sold_month', y='sold_price', data=data)\n",
    "plt.title('Line Chart for Monthly Sold Prices')\n",
    "plt.show()\n"
   ]
  },
  {
   "cell_type": "code",
   "execution_count": null,
   "id": "0bb05789",
   "metadata": {},
   "outputs": [],
   "source": [
    "# Visualization 6: Pie Chart for Hold Type Distribution\n",
    "plt.figure(figsize=(8, 8))\n",
    "data['hold_type'].value_counts().plot.pie(autopct='%1.1f%%')\n",
    "plt.title('Pie Chart for Hold Type Distribution')\n",
    "plt.show()"
   ]
  },
  {
   "cell_type": "code",
   "execution_count": null,
   "id": "2ae7ce8a",
   "metadata": {},
   "outputs": [],
   "source": [
    "# Visualization 7: Heatmap for Correlation\n",
    "plt.figure(figsize=(10, 8))\n",
    "sns.heatmap(data.corr(), annot=True, cmap='coolwarm')\n",
    "plt.title('Heatmap for Correlation')\n",
    "plt.show()\n"
   ]
  },
  {
   "cell_type": "code",
   "execution_count": null,
   "id": "fd13acc4",
   "metadata": {},
   "outputs": [],
   "source": [
    "# Visualization 8: Bar Chart for Area-wise Sold Prices\n",
    "plt.figure(figsize=(12, 8))\n",
    "sns.barplot(x='area', y='sold_price', data=data)\n",
    "plt.title('Bar Chart for Area-wise Sold Prices')\n",
    "plt.xticks(rotation=45, ha='right')\n",
    "plt.show()"
   ]
  },
  {
   "cell_type": "code",
   "execution_count": null,
   "id": "3fb94319",
   "metadata": {},
   "outputs": [],
   "source": [
    "# Visualization 10: Stacked Bar Chart for Property Type by Hold Type\n",
    "plt.figure(figsize=(12, 8))\n",
    "sns.countplot(x='property_type', hue='hold_type', data=data)\n",
    "plt.title('Stacked Bar Chart for Property Type by Hold Type')\n",
    "plt.xticks(rotation=45, ha='right')\n",
    "plt.show()\n"
   ]
  },
  {
   "cell_type": "code",
   "execution_count": null,
   "id": "bec3545a",
   "metadata": {},
   "outputs": [],
   "source": [
    "plt.figure(figsize=(12, 8))\n",
    "numeric_vars = ['bath', 'beds', 'rep', 'sold_price', 'estimated_price', 'area']\n",
    "sns.pairplot(data[numeric_vars])\n",
    "plt.suptitle('Pair Plot for Numeric Variables', y=1.02)\n",
    "plt.show()"
   ]
  },
  {
   "cell_type": "code",
   "execution_count": null,
   "id": "ffbcc73f",
   "metadata": {},
   "outputs": [],
   "source": [
    "# Visualization: Strip Plot for Sold Prices by Quarter\n",
    "plt.figure(figsize=(12, 8))\n",
    "sns.stripplot(x='quarter', y='sold_price', data=data, palette='viridis', jitter=True, alpha=0.7)\n",
    "plt.title('Quarter-wise Strip Plot for Sold Prices')\n",
    "plt.show()"
   ]
  },
  {
   "cell_type": "code",
   "execution_count": null,
   "id": "a7573c92",
   "metadata": {},
   "outputs": [],
   "source": [
    "# Visualization 16: Yearly Trend in Sold Prices\n",
    "plt.figure(figsize=(12, 8))\n",
    "sns.lineplot(x='sold_year', y='sold_price', data=data, estimator='mean', ci=None, marker='o', color='b')\n",
    "plt.title('Yearly Trend in Sold Prices')\n",
    "plt.show()"
   ]
  },
  {
   "cell_type": "code",
   "execution_count": null,
   "id": "efd571ea",
   "metadata": {},
   "outputs": [],
   "source": [
    "import matplotlib.pyplot as plt\n",
    "import seaborn as sns\n",
    "import pandas as pd\n",
    "\n",
    "# Assuming 'beds', 'bath', 'rep', 'sold_price' are columns in your DataFrame\n",
    "\n",
    "# Set up the figure and axis\n",
    "plt.figure(figsize=(12, 8))\n",
    "\n",
    "# Melt the DataFrame to long format\n",
    "melted_data = pd.melt(data, id_vars=['sold_price'], value_vars=['beds', 'bath', 'rep'])\n",
    "\n",
    "# Grouped bar chart\n",
    "sns.barplot(x='value', y='sold_price', hue='variable', data=melted_data, orient='h', palette='viridis')\n",
    "\n",
    "# Add labels and title\n",
    "plt.xlabel('Count')\n",
    "plt.ylabel('Sold Price')\n",
    "plt.title('Comparison of Beds, Bath, Rep with Sold Price')\n",
    "\n",
    "# Show the legend\n",
    "plt.legend(title='Features', loc='upper right')\n",
    "\n",
    "# Display the plot\n",
    "plt.show()\n"
   ]
  },
  {
   "cell_type": "code",
   "execution_count": null,
   "id": "b7dfcd73",
   "metadata": {},
   "outputs": [],
   "source": [
    "average_sold_price = data['sold_price'].mean()\n",
    "\n",
    "# Display the result\n",
    "print(f\"The average sold price is: {average_sold_price}\")"
   ]
  },
  {
   "cell_type": "code",
   "execution_count": null,
   "id": "df6d7d89",
   "metadata": {},
   "outputs": [],
   "source": []
  }
 ],
 "metadata": {
  "kernelspec": {
   "display_name": "Python 3 (ipykernel)",
   "language": "python",
   "name": "python3"
  },
  "language_info": {
   "codemirror_mode": {
    "name": "ipython",
    "version": 3
   },
   "file_extension": ".py",
   "mimetype": "text/x-python",
   "name": "python",
   "nbconvert_exporter": "python",
   "pygments_lexer": "ipython3",
   "version": "3.9.13"
  }
 },
 "nbformat": 4,
 "nbformat_minor": 5
}
